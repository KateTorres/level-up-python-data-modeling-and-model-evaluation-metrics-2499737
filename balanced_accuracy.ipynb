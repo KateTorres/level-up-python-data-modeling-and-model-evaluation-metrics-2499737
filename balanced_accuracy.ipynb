{
 "cells": [
  {
   "cell_type": "code",
   "execution_count": 2,
   "metadata": {},
   "outputs": [
    {
     "data": {
      "text/plain": [
       "0.6617161716171617"
      ]
     },
     "execution_count": 2,
     "metadata": {},
     "output_type": "execute_result"
    }
   ],
   "source": [
    "TN = 2000\n",
    "FP = 20\n",
    "FN = 60\n",
    "TP = 30\n",
    "\n",
    "accuracy = (TN + TP) / (TN + FP + FN + TP)\n",
    "\n",
    "accuracy\n",
    "\n",
    "sensitivity = TP / (TP + FN)\n",
    "\n",
    "specificity = TN / (TN + FP)\n",
    "\n",
    "balanced_accuracy = (sensitivity + specificity) / 2\n",
    "\n",
    "balanced_accuracy\n"
   ]
  }
 ],
 "metadata": {
  "kernelspec": {
   "display_name": "base",
   "language": "python",
   "name": "python3"
  },
  "language_info": {
   "codemirror_mode": {
    "name": "ipython",
    "version": 3
   },
   "file_extension": ".py",
   "mimetype": "text/x-python",
   "name": "python",
   "nbconvert_exporter": "python",
   "pygments_lexer": "ipython3",
   "version": "3.11.5"
  }
 },
 "nbformat": 4,
 "nbformat_minor": 2
}
